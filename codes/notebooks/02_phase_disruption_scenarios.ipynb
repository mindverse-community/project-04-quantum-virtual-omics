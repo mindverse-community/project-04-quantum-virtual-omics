# This is 02_phase_disruption_scenarios.ipynb
print('Hello from qvo_prototype/notebooks/02_phase_disruption_scenarios.ipynb')
